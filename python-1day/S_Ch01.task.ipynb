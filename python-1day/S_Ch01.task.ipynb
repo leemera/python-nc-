{
 "cells": [
  {
   "cell_type": "markdown",
   "metadata": {},
   "source": [
    "<span style=\"font-size:100%\">\n",
    "\n",
    "수업은 모두 열심히 들으셨나요?\n",
    "\n",
    "간혹 강의에서 언급되지 않은 내용이 문제로 나올 수 있습니다.<br>\n",
    "그럴땐 강의 내용 외 문제는 구글링을 통해 해결해주세요<br></span>\n",
    "<span style=\"font-size:80%\">\n",
    "(구글링 또한 개발자가 갖쳐야할 역량 중에 하나랍니다 😊)\n",
    "</span>\n",
    "\n",
    "---"
   ]
  },
  {
   "cell_type": "markdown",
   "metadata": {},
   "source": [
    "<span style=\"font-size:80%\">[문제1]<br><br></span>\n",
    "```인터프리트 방식에 대해 설명하고 2개 이상의 장점을 설명해주세요```"
   ]
  },
  {
   "cell_type": "markdown",
   "metadata": {},
   "source": [
    "인터프리트는 한줋씩 번역하여 실행을 하는 방식이다.\n",
    "\n",
    "1. 한 줄씩 실행되기 때문에 즉시 결과를 알 수있다.\n",
    "2. 동적 타입이라서 정확하게 명시하지 않아도 된다."
   ]
  },
  {
   "cell_type": "markdown",
   "metadata": {},
   "source": [
    "---"
   ]
  },
  {
   "cell_type": "markdown",
   "metadata": {},
   "source": [
    "<span style=\"font-size:80%\">[문제2]<br><br></span>\n",
    "```동적 타입 방식의 장점과 단점을 간략히 설명해주세요```"
   ]
  },
  {
   "cell_type": "markdown",
   "metadata": {},
   "source": [
    "<span style=\"color:red\">답변</span>"
   ]
  },
  {
   "cell_type": "markdown",
   "metadata": {},
   "source": [
    "용도의 제한이 없기 때문에 유연성이 높고 효율적이지만, 코드가 길고 복잡할 경우 문제해결이 쉽지 않게 된다."
   ]
  },
  {
   "cell_type": "markdown",
   "metadata": {},
   "source": [
    "---"
   ]
  },
  {
   "cell_type": "markdown",
   "metadata": {},
   "source": [
    "<span style=\"font-size:80%\">[문제3]<br><br></span>\n",
    "```Python으로 정적타입 방식의 코드를 작성할 수 있는 방법을 구글링을 통해 검색 후 설명해주세요```"
   ]
  },
  {
   "cell_type": "markdown",
   "metadata": {},
   "source": [
    "<span style=\"color:red\">답변</span>"
   ]
  },
  {
   "cell_type": "markdown",
   "metadata": {},
   "source": [
    "python 3.5 부터 추가된 기능으로 정적타입 힌트를 사용 할 수 있다.\n",
    "\n",
    "변수의 타입으로 명시적으로 지정할 수 있으며  함수의 매개변수와 반환값에 사용된다."
   ]
  },
  {
   "cell_type": "markdown",
   "metadata": {},
   "source": [
    "---"
   ]
  },
  {
   "cell_type": "markdown",
   "metadata": {},
   "source": [
    "<span style=\"font-size:80%\">[문제4]<br><br></span>\n",
    "```프로세스와 스레드의 차이점을 설명해주세요```"
   ]
  },
  {
   "cell_type": "markdown",
   "metadata": {},
   "source": [
    "<span style=\"color:red\">답변</span>"
   ]
  },
  {
   "cell_type": "markdown",
   "metadata": {},
   "source": [
    "프로세스  : 독립적인 가상 메모리 공간을 가진다.\n",
    "\n",
    "프로세스 : 프로세스 안의 스레드는 같은 코드,데이터,프로세스의 메모리 공간을 공유한다."
   ]
  },
  {
   "cell_type": "markdown",
   "metadata": {},
   "source": [
    "---"
   ]
  },
  {
   "cell_type": "markdown",
   "metadata": {},
   "source": [
    "<span style=\"font-size:80%\">[문제5]<br><br></span>\n",
    "```Python 2버전대와 3버전대의 차이를 성명해주세요```"
   ]
  },
  {
   "cell_type": "markdown",
   "metadata": {},
   "source": [
    "<span style=\"color:red\">답변</span>"
   ]
  },
  {
   "cell_type": "markdown",
   "metadata": {},
   "source": [
    "           python2       python\n",
    "\n",
    "문법 차이:\n",
    "print 문: Python 2에서는 print가 문장(statement)이지만, Python 3에서는 함수(function)입니다. 예를 들어, Python 2에서는 print \"Hello\"로 사용하지만, Python 3에서는 print(\"Hello\")로 사용합니다.\n",
    "\n",
    "문자열 처리:\n",
    "문자열 처리 방식이 다릅니다. Python 2에서는 ASCII가 기본 문자열 형식이고, Python 3에서는 Unicode가 기본입니다. 이로 인해 문자 인코딩이 더 간편해졌습니다.\n",
    "\n",
    "division 연산:\n",
    "Python 2에서는 두 정수의 나눗셈이 정수로 결과가 나옵니다 (예: 5 / 2는 2). 반면, Python 3에서는 실수로 결과가 나옵니다 (예: 5 / 2는 2.5). 정수 나눗셈을 원할 경우 Python 3에서는 5 // 2를 사용해야 합니다.\n",
    "\n",
    "range() 함수:\n",
    "Python 2에서는 range()가 리스트를 반환하지만, Python 3에서는 range()가 이터레이터를 반환하여 메모리 효율성이 향상되었습니다. Python 3에서 리스트가 필요하면 list(range())를 사용해야 합니다.\n",
    "\n",
    "input() 함수:\n",
    "Python 2에서는 input()이 입력받은 값을 평가(evaluate)하지만, raw_input()이 문자열로 입력받습니다. Python 3에서는 input()만 존재하며, 항상 문자열로 입력받습니다.\n",
    "\n"
   ]
  },
  {
   "cell_type": "markdown",
   "metadata": {},
   "source": [
    "---"
   ]
  },
  {
   "cell_type": "markdown",
   "metadata": {},
   "source": [
    "<span style=\"font-size:80%\">[문제6]<br><br></span>\n",
    "```Python에서 메모리 관리는 어떻게 이루어지는지 설명해주세요```"
   ]
  },
  {
   "cell_type": "markdown",
   "metadata": {},
   "source": [
    "<span style=\"color:red\">답변</span>"
   ]
  },
  {
   "cell_type": "markdown",
   "metadata": {},
   "source": [
    "파이썬의 메모리 관리는 주로 자동 메모리 관리 시스템인 가비지 컬렉션(Garbage Collection)을 통해 이루어집니다. 파이썬은 객체 지향 언어로, 모든 데이터는 객체로 저장되며, 이러한 객체들은 메모리 상에서 동적으로 할당됩니다."
   ]
  }
 ],
 "metadata": {
  "kernelspec": {
   "display_name": "Python 3",
   "language": "python",
   "name": "python3"
  },
  "language_info": {
   "codemirror_mode": {
    "name": "ipython",
    "version": 3
   },
   "file_extension": ".py",
   "mimetype": "text/x-python",
   "name": "python",
   "nbconvert_exporter": "python",
   "pygments_lexer": "ipython3",
   "version": "3.9.6"
  }
 },
 "nbformat": 4,
 "nbformat_minor": 2
}
